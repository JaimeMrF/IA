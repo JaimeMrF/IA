{
 "cells": [
  {
   "cell_type": "code",
   "execution_count": 1,
   "id": "b71211a5",
   "metadata": {},
   "outputs": [
    {
     "name": "stdout",
     "output_type": "stream",
     "text": [
      "Dataset original:\n",
      "   ID     Ciudad      Educación Género\n",
      "0   1     Madrid     Secundaria      F\n",
      "1   2  Barcelona       Primaria      M\n",
      "2   3    Sevilla  Universitaria      F\n",
      "3   4     Madrid       Primaria      M\n",
      "4   5   Valencia  Universitaria      F\n"
     ]
    }
   ],
   "source": [
    "import pandas as pd\n",
    "\n",
    "\n",
    "data = {\n",
    "    \"ID\": [1, 2, 3, 4, 5],\n",
    "    \"Ciudad\": [\"Madrid\", \"Barcelona\", \"Sevilla\", \"Madrid\", \"Valencia\"], \n",
    "    \"Educación\": [\"Secundaria\", \"Primaria\", \"Universitaria\", \"Primaria\", \"Universitaria\"],  \n",
    "    \"Género\": [\"F\", \"M\", \"F\", \"M\", \"F\"],\n",
    "}\n",
    "df = pd.DataFrame(data)\n",
    "print(\"Dataset original:\")\n",
    "print(df)"
   ]
  },
  {
   "cell_type": "code",
   "execution_count": 5,
   "id": "14fd88b3",
   "metadata": {},
   "outputs": [
    {
     "data": {
      "text/html": [
       "<div>\n",
       "<style scoped>\n",
       "    .dataframe tbody tr th:only-of-type {\n",
       "        vertical-align: middle;\n",
       "    }\n",
       "\n",
       "    .dataframe tbody tr th {\n",
       "        vertical-align: top;\n",
       "    }\n",
       "\n",
       "    .dataframe thead th {\n",
       "        text-align: right;\n",
       "    }\n",
       "</style>\n",
       "<table border=\"1\" class=\"dataframe\">\n",
       "  <thead>\n",
       "    <tr style=\"text-align: right;\">\n",
       "      <th></th>\n",
       "      <th>ID</th>\n",
       "      <th>Educación</th>\n",
       "      <th>Género</th>\n",
       "      <th>Ciudad_Barcelona</th>\n",
       "      <th>Ciudad_Madrid</th>\n",
       "      <th>Ciudad_Sevilla</th>\n",
       "    </tr>\n",
       "  </thead>\n",
       "  <tbody>\n",
       "    <tr>\n",
       "      <th>0</th>\n",
       "      <td>1</td>\n",
       "      <td>Secundaria</td>\n",
       "      <td>F</td>\n",
       "      <td>False</td>\n",
       "      <td>True</td>\n",
       "      <td>False</td>\n",
       "    </tr>\n",
       "    <tr>\n",
       "      <th>1</th>\n",
       "      <td>2</td>\n",
       "      <td>Primaria</td>\n",
       "      <td>M</td>\n",
       "      <td>True</td>\n",
       "      <td>False</td>\n",
       "      <td>False</td>\n",
       "    </tr>\n",
       "    <tr>\n",
       "      <th>2</th>\n",
       "      <td>3</td>\n",
       "      <td>Universitaria</td>\n",
       "      <td>F</td>\n",
       "      <td>False</td>\n",
       "      <td>False</td>\n",
       "      <td>True</td>\n",
       "    </tr>\n",
       "    <tr>\n",
       "      <th>3</th>\n",
       "      <td>4</td>\n",
       "      <td>Primaria</td>\n",
       "      <td>M</td>\n",
       "      <td>False</td>\n",
       "      <td>True</td>\n",
       "      <td>False</td>\n",
       "    </tr>\n",
       "    <tr>\n",
       "      <th>4</th>\n",
       "      <td>5</td>\n",
       "      <td>Universitaria</td>\n",
       "      <td>F</td>\n",
       "      <td>False</td>\n",
       "      <td>False</td>\n",
       "      <td>False</td>\n",
       "    </tr>\n",
       "  </tbody>\n",
       "</table>\n",
       "</div>"
      ],
      "text/plain": [
       "   ID      Educación Género  Ciudad_Barcelona  Ciudad_Madrid  Ciudad_Sevilla\n",
       "0   1     Secundaria      F             False           True           False\n",
       "1   2       Primaria      M              True          False           False\n",
       "2   3  Universitaria      F             False          False            True\n",
       "3   4       Primaria      M             False           True           False\n",
       "4   5  Universitaria      F             False          False           False"
      ]
     },
     "execution_count": 5,
     "metadata": {},
     "output_type": "execute_result"
    }
   ],
   "source": [
    "#1\n",
    "\n",
    "ciudaddummie = pd.get_dummies(df[\"Ciudad\"], prefix=\"Ciudad\")\n",
    "ciudaddummie.drop(columns=\"Ciudad_Valencia\", axis=1, inplace=True)\n",
    "ciudaddummie\n",
    "\n",
    "dfc = df.join(ciudaddummie)\n",
    "dfc.drop(columns=[\"Ciudad\"], axis=1, inplace=True)\n",
    "\n",
    "dfc\n"
   ]
  }
 ],
 "metadata": {
  "kernelspec": {
   "display_name": "Python 3",
   "language": "python",
   "name": "python3"
  },
  "language_info": {
   "codemirror_mode": {
    "name": "ipython",
    "version": 3
   },
   "file_extension": ".py",
   "mimetype": "text/x-python",
   "name": "python",
   "nbconvert_exporter": "python",
   "pygments_lexer": "ipython3",
   "version": "3.13.6"
  }
 },
 "nbformat": 4,
 "nbformat_minor": 5
}
